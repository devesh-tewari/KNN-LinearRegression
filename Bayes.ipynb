{
 "cells": [
  {
   "cell_type": "markdown",
   "metadata": {},
   "source": [
    "# Question 2\n",
    "\n",
    "### Implementation details:\n",
    "1. The program first reads the input using pandas' read_csv() function and the dataset is divided into training data(80%) and test data(20%).\n",
    "2. We then assign X and Y as attibutes and label respectively for the decision tree.\n",
    "3. We will be needing the mean and standard deviation for each attribute for the gaussian probability density calculations so we precompute the means and standard deviations.\n",
    "4. We then compute the likelihood of each label by using the naive bayes assumption i.e. we multiply likelihood for each attribute.\n",
    "5. We will get two likelihoods, one for label label yes and one for label no.\n",
    "6. The one with greater likelihood is our prediction.\n",
    "7. The last step is to calculate the performance of the model for validation data. We report accuracy, precision, recall and F1 score."
   ]
  },
  {
   "cell_type": "code",
   "execution_count": 3,
   "metadata": {},
   "outputs": [],
   "source": [
    "import pandas as pd\n",
    "import numpy as np\n",
    "import sys\n",
    "\n",
    "csv_path = 'LoanDataset/data.csv'#raw_input(\"Enter path to input CSV file: \")\n",
    "dataset = pd.read_csv(csv_path, header=None)\n",
    "\n",
    "dataset = dataset.iloc[1:]\n",
    "dataset.drop(dataset.columns[[0]], axis=1, inplace=True)\n",
    "\n",
    "#split data into train data and validation data\n",
    "splitted = np.split(dataset, [int(.8 * len(dataset.index))])\n",
    "train_data = splitted[0]\n",
    "validation_data = splitted[1]"
   ]
  },
  {
   "cell_type": "code",
   "execution_count": 4,
   "metadata": {},
   "outputs": [
    {
     "name": "stdout",
     "output_type": "stream",
     "text": [
      "Int64Index([1, 2, 3, 4, 5, 6, 7, 8, 10, 11, 12, 13], dtype='int64') 9\n"
     ]
    }
   ],
   "source": [
    "X = dataset.keys()[[0,1,2,3,4,5,6,7,9,10,11,12]]\n",
    "Y = dataset.keys()[8]\n",
    "print X, Y"
   ]
  },
  {
   "cell_type": "code",
   "execution_count": 5,
   "metadata": {},
   "outputs": [
    {
     "name": "stdout",
     "output_type": "stream",
     "text": [
      "1 [45.233590138674884, 45.387005649717516] [11.430164976692916, 11.417844620576561]\n",
      "2 [19.99075500770416, 20.15536723163842] [11.453311437371603, 11.326990764558571]\n",
      "3 [66.88289676425269, 143.80790960451978] [40.886326317539826, 31.916776394308027]\n",
      "4 [93118.3657935285, 93175.37005649718] [2295.8496284439493, 1769.6717581008547]\n",
      "5 [2.372265023112481, 2.6073446327683616] [1.1495700076506965, 1.125489101407227]\n",
      "6 [1.7339137134052387, 3.9105084745762717] [1.571073582652252, 2.0925608810471044]\n",
      "7 [1.8391371340523883, 2.2401129943502824] [0.8382294025332762, 0.760222974056378]\n",
      "8 [52.10508474576271, 103.590395480226] [92.84300111209942, 161.95465299048163]\n",
      "10 [0.10138674884437596, 0.12429378531073447] [0.30184014975338086, 0.3299164140261341]\n",
      "11 [0.03605546995377504, 0.3050847457627119] [0.18642819808223077, 0.46044331210868217]\n",
      "12 [0.6049306625577812, 0.6271186440677966] [0.48886558076344977, 0.48357093619278324]\n",
      "13 [0.2942989214175655, 0.2966101694915254] [0.45572696460712425, 0.4567631518037921]\n"
     ]
    }
   ],
   "source": [
    "def is_numeric(att):\n",
    "    if att in dataset.keys()[[0,1,2,4,5,7]]:\n",
    "        return True\n",
    "    else:\n",
    "        return False\n",
    "\n",
    "mean = {}\n",
    "sd = {}\n",
    "\n",
    "for x in X:\n",
    "#     if is_numeric(x):\n",
    "    accept = train_data[train_data[Y] == 1][x]\n",
    "    reject = train_data[train_data[Y] == 0][x]\n",
    "\n",
    "    mean[x] = [np.mean(reject), np.mean(accept)]\n",
    "    sd[x] = [np.std(reject), np.std(accept)]\n",
    "\n",
    "    print x, mean[x], sd[x]"
   ]
  },
  {
   "cell_type": "code",
   "execution_count": 6,
   "metadata": {},
   "outputs": [],
   "source": [
    "# import scipy.stats\n",
    "import math\n",
    "\n",
    "y1_filtered = train_data[train_data[Y] == 1]\n",
    "y0_filtered = train_data[train_data[Y] == 0]\n",
    "p_y1 = float(len(y1_filtered)) / len(train_data)\n",
    "p_y0 = 1 - p_y1\n",
    "    \n",
    "def predict(row):\n",
    "    \n",
    "    p_accept = 1\n",
    "    p_reject = 1\n",
    "    \n",
    "    for x in X:\n",
    "        \n",
    "        row_val = row[x].values[0]\n",
    "        \n",
    "#         filtered = train_data[train_data[x] == row_val]\n",
    "#         p_x = float(len(filtered)) / len(train_data)\n",
    "    \n",
    "#         p_XbyY = scipy.stats.norm(mean[x][1], sd[x][1]).pdf(0)\n",
    "#         p_accept *= p_XbyY * p_y1 / p_x\n",
    "\n",
    "#         p_XbyY = scipy.stats.norm(mean[x][0], sd[x][0]).pdf(0)\n",
    "#         p_reject *= p_XbyY * p_y0 / p_x\n",
    "\n",
    "#         if is_numeric(x):\n",
    "        exponent = math.exp(-(math.pow(row_val-mean[x][0],2)/(2*math.pow(sd[x][0],2))))\n",
    "        p_reject *= ( 1 / (math.sqrt(2*math.pi)*sd[x][0]) ) * exponent\n",
    "\n",
    "        exponent = math.exp(-(math.pow(row_val-mean[x][1],2)/(2*math.pow(sd[x][1],2))))\n",
    "        p_accept *= ( 1 / (math.sqrt(2*math.pi)*sd[x][1]) ) * exponent\n",
    "            \n",
    "#         else:\n",
    "\n",
    "#             filtered = y1_filtered[y1_filtered[x] == row_val]\n",
    "#             required = len(filtered)\n",
    "            \n",
    "#             p_accept *= float(required) / len(y1_filtered)\n",
    "\n",
    "#             filtered = y0_filtered[y0_filtered[x] == row_val]\n",
    "#             required = len(filtered)\n",
    "            \n",
    "#             p_reject *= float(required) / len(y0_filtered)\n",
    "    \n",
    "#     p_accept *= p_y1\n",
    "#     p_reject *= p_y0\n",
    "    \n",
    "#     print p_accept, p_reject\n",
    "    \n",
    "    if p_accept > p_reject:\n",
    "        return 1\n",
    "    else:\n",
    "        return 0"
   ]
  },
  {
   "cell_type": "code",
   "execution_count": 8,
   "metadata": {},
   "outputs": [
    {
     "name": "stdout",
     "output_type": "stream",
     "text": [
      "Validation Results:\n",
      "\n",
      "accuracy = 0.877777777778\n",
      "precision = 0.401315789474\n",
      "recall = 0.7625\n",
      "F1 measure = 0.525862068966\n"
     ]
    }
   ],
   "source": [
    "def calculate_performance(validation_data):\n",
    "    TP = 0\n",
    "    TN = 0\n",
    "    FP = 0\n",
    "    FN = 0\n",
    "    \n",
    "    for i in range(len(validation_data)):\n",
    "        row = validation_data.iloc[[i]][Y]\n",
    "        row = row.tolist()\n",
    "        row = row[0]\n",
    "        if predict(validation_data.iloc[[i]]) == 1:\n",
    "            if row == 1:\n",
    "                TP += 1\n",
    "            else:\n",
    "                FP += 1\n",
    "        else:\n",
    "            if row == 0:\n",
    "                TN += 1\n",
    "            else:\n",
    "                FN += 1\n",
    "\n",
    "    accuracy = float(TP + TN) / (TP + TN + FP + FN)\n",
    "    \n",
    "    if TP + FP == 0:\n",
    "        precision = 0\n",
    "    else:\n",
    "        precision = float(TP) / (TP + FP)\n",
    "        \n",
    "    if TP + FN == 0:\n",
    "        recall = 0\n",
    "    else:\n",
    "        recall = float(TP) / (TP + FN)\n",
    "    \n",
    "    if precision == 0 or recall == 0:\n",
    "        F1measure = 0\n",
    "    else:\n",
    "        F1measure = 2.0 / ( (1/recall) + (1/precision) )\n",
    "    \n",
    "#     print TP, TN, FP, FN\n",
    "    print (\"Validation Results:\\n\")\n",
    "    print (\"accuracy = \" + str(accuracy))\n",
    "    print (\"precision = \" + str(precision))\n",
    "    print (\"recall = \" + str(recall))\n",
    "    print (\"F1 measure = \" + str(F1measure))\n",
    "\n",
    "\n",
    "calculate_performance(validation_data)"
   ]
  },
  {
   "cell_type": "markdown",
   "metadata": {},
   "source": [
    "#### Observations: \n",
    "We have got good accuracy but precision is low"
   ]
  },
  {
   "cell_type": "code",
   "execution_count": null,
   "metadata": {},
   "outputs": [],
   "source": []
  }
 ],
 "metadata": {
  "kernelspec": {
   "display_name": "Python 2",
   "language": "python",
   "name": "python2"
  },
  "language_info": {
   "codemirror_mode": {
    "name": "ipython",
    "version": 2
   },
   "file_extension": ".py",
   "mimetype": "text/x-python",
   "name": "python",
   "nbconvert_exporter": "python",
   "pygments_lexer": "ipython2",
   "version": "2.7.15rc1"
  }
 },
 "nbformat": 4,
 "nbformat_minor": 2
}
