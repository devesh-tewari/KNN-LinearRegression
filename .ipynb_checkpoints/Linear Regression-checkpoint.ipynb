{
 "cells": [
  {
   "cell_type": "markdown",
   "metadata": {},
   "source": [
    "# Question 3\n",
    "\n",
    "## Part 1\n",
    "\n",
    "### Implementation details:\n",
    "1. The program first reads the input using pandas' read_csv() function and the dataset is divided into training data(80%) and test data(20%).\n",
    "2. We then assign 'Attributes' and 'Label' as attibutes and label respectively for the decision tree.\n",
    "3. The values of different arributes have a very different scale. So we bring them to the same scale by normalizing all the attribute values. The values are normalized by using mean and standard deviation.\n",
    "4. The next step is to first store all the attribute in the training data in a numpy matrix X and all the labels of the training data in a matrix Y.\n",
    "5. Then we solve the equation \" $Y = \\theta X$ \"\n",
    "6. The solution of the above equation is $\\theta = (X^{T}X)^{-1}X^{T}Y$\n",
    "7. We have used numpy functions to compute theta.\n",
    "8. The function calculate_performance() calls the function predict() for each row of validation data which returns the predicted value.\n",
    "9. Given a row 'x', the label, 'y' is predicted by using the equation $y = x.\\theta$"
   ]
  },
  {
   "cell_type": "code",
   "execution_count": 113,
   "metadata": {},
   "outputs": [
    {
     "data": {
      "text/html": [
       "<div>\n",
       "<style scoped>\n",
       "    .dataframe tbody tr th:only-of-type {\n",
       "        vertical-align: middle;\n",
       "    }\n",
       "\n",
       "    .dataframe tbody tr th {\n",
       "        vertical-align: top;\n",
       "    }\n",
       "\n",
       "    .dataframe thead th {\n",
       "        text-align: right;\n",
       "    }\n",
       "</style>\n",
       "<table border=\"1\" class=\"dataframe\">\n",
       "  <thead>\n",
       "    <tr style=\"text-align: right;\">\n",
       "      <th></th>\n",
       "      <th>GRE Score</th>\n",
       "      <th>TOEFL Score</th>\n",
       "      <th>University Rating</th>\n",
       "      <th>SOP</th>\n",
       "      <th>LOR</th>\n",
       "      <th>CGPA</th>\n",
       "      <th>Research</th>\n",
       "      <th>Chance of Admit</th>\n",
       "    </tr>\n",
       "  </thead>\n",
       "  <tbody>\n",
       "    <tr>\n",
       "      <th>0</th>\n",
       "      <td>317</td>\n",
       "      <td>103</td>\n",
       "      <td>2</td>\n",
       "      <td>2.5</td>\n",
       "      <td>2.0</td>\n",
       "      <td>8.15</td>\n",
       "      <td>0</td>\n",
       "      <td>0.65</td>\n",
       "    </tr>\n",
       "    <tr>\n",
       "      <th>1</th>\n",
       "      <td>319</td>\n",
       "      <td>108</td>\n",
       "      <td>3</td>\n",
       "      <td>3.0</td>\n",
       "      <td>3.5</td>\n",
       "      <td>8.54</td>\n",
       "      <td>1</td>\n",
       "      <td>0.71</td>\n",
       "    </tr>\n",
       "    <tr>\n",
       "      <th>2</th>\n",
       "      <td>322</td>\n",
       "      <td>110</td>\n",
       "      <td>3</td>\n",
       "      <td>3.5</td>\n",
       "      <td>2.5</td>\n",
       "      <td>8.67</td>\n",
       "      <td>1</td>\n",
       "      <td>0.80</td>\n",
       "    </tr>\n",
       "    <tr>\n",
       "      <th>3</th>\n",
       "      <td>326</td>\n",
       "      <td>113</td>\n",
       "      <td>5</td>\n",
       "      <td>4.5</td>\n",
       "      <td>4.0</td>\n",
       "      <td>9.40</td>\n",
       "      <td>1</td>\n",
       "      <td>0.91</td>\n",
       "    </tr>\n",
       "    <tr>\n",
       "      <th>4</th>\n",
       "      <td>319</td>\n",
       "      <td>106</td>\n",
       "      <td>3</td>\n",
       "      <td>3.5</td>\n",
       "      <td>2.5</td>\n",
       "      <td>8.33</td>\n",
       "      <td>1</td>\n",
       "      <td>0.74</td>\n",
       "    </tr>\n",
       "  </tbody>\n",
       "</table>\n",
       "</div>"
      ],
      "text/plain": [
       "   GRE Score  TOEFL Score  University Rating  SOP  LOR   CGPA  Research  \\\n",
       "0        317          103                  2  2.5   2.0  8.15         0   \n",
       "1        319          108                  3  3.0   3.5  8.54         1   \n",
       "2        322          110                  3  3.5   2.5  8.67         1   \n",
       "3        326          113                  5  4.5   4.0  9.40         1   \n",
       "4        319          106                  3  3.5   2.5  8.33         1   \n",
       "\n",
       "   Chance of Admit   \n",
       "0              0.65  \n",
       "1              0.71  \n",
       "2              0.80  \n",
       "3              0.91  \n",
       "4              0.74  "
      ]
     },
     "execution_count": 113,
     "metadata": {},
     "output_type": "execute_result"
    }
   ],
   "source": [
    "import pandas as pd\n",
    "import numpy as np\n",
    "import sys\n",
    "\n",
    "csv_path = 'AdmissionDataset/data.csv'#raw_input(\"Enter path to input CSV file: \")\n",
    "dataset = pd.read_csv(csv_path)\n",
    "\n",
    "dataset.drop(dataset.columns[[0]], axis=1, inplace=True)\n",
    "\n",
    "#split data into train data and validation data\n",
    "splitted = np.split(dataset, [int(.8 * len(dataset.index))])\n",
    "train_data = splitted[0]\n",
    "validation_data = splitted[1]\n",
    "\n",
    "dataset.head()"
   ]
  },
  {
   "cell_type": "code",
   "execution_count": 114,
   "metadata": {},
   "outputs": [
    {
     "name": "stdout",
     "output_type": "stream",
     "text": [
      "Index([u'GRE Score', u'TOEFL Score', u'University Rating', u'SOP', u'LOR ',\n",
      "       u'CGPA', u'Research'],\n",
      "      dtype='object')\n"
     ]
    }
   ],
   "source": [
    "Attributes = dataset.keys()[[0,1,2,3,4,5,6]]\n",
    "Label = dataset.keys()[7]\n",
    "print Attributes"
   ]
  },
  {
   "cell_type": "code",
   "execution_count": 115,
   "metadata": {},
   "outputs": [],
   "source": [
    "for att in Attributes:\n",
    "    mean = np.mean(train_data[att].values)\n",
    "    std = np.std(train_data[att].values)\n",
    "    train_data[att] = (train_data[att]-mean)/(std)\n",
    "    \n",
    "for att in Attributes:\n",
    "    mean = np.mean(validation_data[att].values)\n",
    "    std = np.std(validation_data[att].values)\n",
    "    validation_data[att] = (validation_data[att]-mean)/(std)"
   ]
  },
  {
   "cell_type": "code",
   "execution_count": 116,
   "metadata": {},
   "outputs": [
    {
     "name": "stdout",
     "output_type": "stream",
     "text": [
      "[ 0.72188889  0.02355433  0.01557727  0.00984114 -0.00191175  0.01416885\n",
      "  0.07306435  0.01179078]\n"
     ]
    }
   ],
   "source": [
    "att_data = train_data[Attributes]\n",
    "label_data = train_data[Label]\n",
    "\n",
    "X = att_data.values\n",
    "Y = label_data.values\n",
    "\n",
    "X = np.array(X)\n",
    "extra_col = np.ones([X.shape[0],1])\n",
    "X = np.concatenate((extra_col,X),axis=1)\n",
    "\n",
    "theta = np.matmul( np.matmul( np.linalg.inv(np.matmul(X.T, X)), X.T ) , Y )\n",
    "\n",
    "print theta"
   ]
  },
  {
   "cell_type": "markdown",
   "metadata": {},
   "source": [
    "## Part 2\n",
    "\n",
    "The implementation of part 2 is incorporated in the function calculate_performance()\n",
    "We calculate and report mean absolute error, mean squared error and mean percentage error using the predicted values."
   ]
  },
  {
   "cell_type": "code",
   "execution_count": 134,
   "metadata": {},
   "outputs": [
    {
     "name": "stdout",
     "output_type": "stream",
     "text": [
      "Performance Measures\n",
      "\n",
      "\n",
      "Mean Squared Error:\n",
      "0.00466636097241\n",
      "\n",
      "Mean Absolute Error:\n",
      "0.0498752743765\n",
      "\n",
      "Mean Percentage Error:\n",
      "-1.71892860668\n"
     ]
    }
   ],
   "source": [
    "def predict(row):\n",
    "    \n",
    "    x = row.values\n",
    "    x = x.reshape([1,7])\n",
    "    extra_col = np.ones([1,1])\n",
    "    x = np.concatenate((extra_col,x),axis=1)\n",
    "    \n",
    "    y = np.dot(x, theta)\n",
    "    \n",
    "    return float(y)\n",
    "\n",
    "\n",
    "\n",
    "def calculate_performance():\n",
    "    \n",
    "    print ('Performance Measures\\n\\n')\n",
    "\n",
    "    MSE = 0.0\n",
    "    MAE = 0.0\n",
    "    MPE = 0.0\n",
    "    for i in range(len(validation_data)):\n",
    "        row = validation_data.iloc[[i]]\n",
    "        \n",
    "        y_predicted = predict(validation_data.iloc[[i]][Attributes])\n",
    "        \n",
    "        y_actual = float(row[Label])\n",
    "        \n",
    "        MSE += (y_predicted-y_actual)**2\n",
    "        MAE += abs(y_predicted-y_actual)\n",
    "        MPE += (y_actual-y_predicted)/y_actual\n",
    "            \n",
    "    MSE /= len(validation_data)\n",
    "    MAE /= len(validation_data)\n",
    "    MPE /= len(validation_data)\n",
    "    MPE *= 100\n",
    "    \n",
    "    print ('Mean Squared Error:')\n",
    "    print (MSE)\n",
    "    print ('\\nMean Absolute Error:')\n",
    "    print (MAE)\n",
    "    print ('\\nMean Percentage Error:')\n",
    "    print (MPE)\n",
    "\n",
    "\n",
    "calculate_performance()"
   ]
  },
  {
   "cell_type": "code",
   "execution_count": null,
   "metadata": {},
   "outputs": [],
   "source": [
    "#### Observations:\n",
    "1. Mean absolute error is 0.049 which tells us that on av average we will have this much variation from the actual value of the label.\n",
    "2. Mean squared error is very small. This is due to the fact that the label lies in range [0,1] and the difference in actual and predicted values will be less than 1. So squaring this value will reduce this quantity.\n",
    "3. The mean percentage error is 1.7% and is negative that implies that the error is much biased in the negative side i.e. predicted values are greater."
   ]
  },
  {
   "cell_type": "markdown",
   "metadata": {},
   "source": [
    "## Part 3\n",
    "\n",
    "### Implementation details:\n",
    "1. Matplotlib's pyplot is used to plot the required graph.\n",
    "2. The function plot_residuals() plots the residues for a given feature.\n",
    "3. We have plotted the residual plot for features 'GRE Score', 'LOR' and 'Research'."
   ]
  },
  {
   "cell_type": "code",
   "execution_count": 133,
   "metadata": {},
   "outputs": [
    {
     "data": {
      "image/png": "[encoded data removed]",
      "text/plain": [
       "<matplotlib.figure.Figure at 0x7f5899c90410>"
      ]
     },
     "metadata": {
      "needs_background": "light"
     },
     "output_type": "display_data"
    },
    {
     "data": {
      "image/png": "[encoded data removed]",
      "text/plain": [
       "<matplotlib.figure.Figure at 0x7f58993f1850>"
      ]
     },
     "metadata": {
      "needs_background": "light"
     },
     "output_type": "display_data"
    },
    {
     "data": {
      "image/png": "[encoded data removed]",
      "text/plain": [
       "<matplotlib.figure.Figure at 0x7f5899c903d0>"
      ]
     },
     "metadata": {
      "needs_background": "light"
     },
     "output_type": "display_data"
    }
   ],
   "source": [
    "from matplotlib import pyplot as plt\n",
    "\n",
    "def plot_residuals(feature):\n",
    "    \n",
    "    feature_index = validation_data.columns.get_loc(feature)\n",
    "    theta_feature = theta[feature_index+1]\n",
    "    \n",
    "    residue = []\n",
    "    feature_val = []\n",
    "    \n",
    "    for index, row in validation_data.iterrows():\n",
    "        y_predicted = theta_feature * float(row[feature]) + theta[0]\n",
    "        y_actual = float(row[Label])\n",
    "        \n",
    "        residue.append(predict(row[Attributes])-y_actual)\n",
    "#         denormalized_val = row[feature]*np.std(dataset[feature].values)+np.mean(dataset[feature].values)\n",
    "        feature_val.append(row[feature])\n",
    "    \n",
    "    plt.figure(figsize=(12,8))\n",
    "    plt.plot(feature_val, residue,  marker='o', linewidth = 3, linestyle=' ')\n",
    "    plt.xlabel(str(feature)+' (normalized)') \n",
    "    plt.ylabel('Residues')\n",
    "    plt.title('Residue Plot of feature \\''+str(feature)+'\\'')\n",
    "    plt.axhline(0, color='brown', lw=1)\n",
    "    plt.show()\n",
    "        \n",
    "plot_residuals('GRE Score')\n",
    "plot_residuals('SOP')\n",
    "plot_residuals('Research')"
   ]
  },
  {
   "cell_type": "markdown",
   "metadata": {},
   "source": [
    "#### Observations:\n",
    "1. When all attributes are zero, the predicted label will be theta[0] i.e. 0.72 but it does not make sense practically to have 0.72 chance of admit when all atributes are zero.\n",
    "2. Theta corresponding for a perticular attribute is the increase in output with respect to unit increase in value of the attribute.\n",
    "3. Negative value represents that on increasing the attribute value, predicted value will decrease.\n",
    "4. The residual plots do not show any pattern. This implies that we have a good solution because of random error."
   ]
  },
  {
   "cell_type": "code",
   "execution_count": null,
   "metadata": {},
   "outputs": [],
   "source": []
  }
 ],
 "metadata": {
  "kernelspec": {
   "display_name": "Python 2",
   "language": "python",
   "name": "python2"
  },
  "language_info": {
   "codemirror_mode": {
    "name": "ipython",
    "version": 2
   },
   "file_extension": ".py",
   "mimetype": "text/x-python",
   "name": "python",
   "nbconvert_exporter": "python",
   "pygments_lexer": "ipython2",
   "version": "2.7.15rc1"
  }
 },
 "nbformat": 4,
 "nbformat_minor": 2
}
